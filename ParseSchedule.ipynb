{
 "metadata": {
  "name": "",
  "signature": "sha256:2f5c9f773438cbb9e3bee28b95563a0e61ea816abdc47cca73b4aebfefcd0406"
 },
 "nbformat": 3,
 "nbformat_minor": 0,
 "worksheets": [
  {
   "cells": [
    {
     "cell_type": "heading",
     "level": 1,
     "metadata": {},
     "source": [
      "Scrape the USC class schedules and write them out as a CSV file"
     ]
    },
    {
     "cell_type": "markdown",
     "metadata": {},
     "source": [
      "Our Model is a Catalog of Courses. Each Course can have many sections. Each section can have many Offering times."
     ]
    },
    {
     "cell_type": "code",
     "collapsed": false,
     "input": [
      "import csvkit\n",
      "\n",
      "class Offering:\n",
      "    def __init__(self,days,time,location):\n",
      "        self.days = days\n",
      "        self.time = time\n",
      "        self.location = location\n",
      "\n",
      "class Course:\n",
      "    def __init__(self, number, name):\n",
      "        self.number = number\n",
      "        self.name = name\n",
      "        self.sections = {} #key is section number, value is list of Offering\n",
      "        self.term = None\n",
      "        self.levels = None\n",
      "        self.attributes = None\n",
      "        \n",
      "    def getKey(self):\n",
      "        return self.number\n",
      "    \n",
      "    def __repr__(self):\n",
      "        result = ''\n",
      "        for (section,offerings) in self.sections.iteritems():\n",
      "            for offer in offerings:\n",
      "                result += \"%s:%s:%s:%s:%s:%s:\\n\" % (self.number.encode('utf-8'), \n",
      "                                section.encode('utf-8'), self.name.encode('utf-8'), \n",
      "                                offer.days.encode('utf-8'), offer.time.encode('utf-8'), \n",
      "                                offer.location.encode('utf-8'))\n",
      "        return result\n",
      "    \n",
      "    def writeToFile(self,writer):\n",
      "        for (section,offerings) in self.sections.iteritems():\n",
      "            for offer in offerings:\n",
      "                writer.writerow([self.number, section, self.name, offer.days, offer.time, offer.location])\n",
      "    \n",
      "    def addOffering(self, sectionNumber, days, time, location):\n",
      "        \"\"\"Add an offering time to this course, for sectionNumber. A section can have many offerings.\"\"\"\n",
      "        offer = Offering(days, time, location)\n",
      "        if self.sections.has_key(sectionNumber): #this sectionNumber already exists so add this offering to it\n",
      "            self.sections[sectionNumber].append(offer)\n",
      "        else:\n",
      "            self.sections[sectionNumber] = [offer] #first offering\n",
      "            \n",
      "    def mergeWith(self, other):\n",
      "        \"\"\"Add the sections of other to this course.\"\"\"\n",
      "        for (sectionNumber,offerings) in other.sections.iteritems():\n",
      "            if self.sections.has_key(sectionNumber):\n",
      "                self.sections[sectionNumber] = self.sections[sectionNumber] + offerings\n",
      "            else:\n",
      "                self.sections[sectionNumber] = offerings\n",
      "            \n",
      "class Catalog:\n",
      "    def __init__(self):\n",
      "        self.courses = {}\n",
      "        \n",
      "    def add(self, course):\n",
      "        \"\"\"Add course, if one exists with that name then we just add in its sections.\"\"\"\n",
      "        if self.courses.has_key(course.getKey()): #already there, so add a new section\n",
      "            currentCourse = self.courses[course.getKey()]\n",
      "            currentCourse.mergeWith(course)\n",
      "        else:\n",
      "            self.courses[course.getKey()] = course\n",
      "            \n",
      "    def __getitem__(self, name):\n",
      "        return self.courses[name]\n",
      "    \n",
      "    def __repr__(self):\n",
      "        result = ''\n",
      "        for c in self.courses:\n",
      "            result += str(self.courses[c])\n",
      "        return result\n",
      "    \n",
      "    def writeToFile(self,writer):\n",
      "        for c in self.courses:\n",
      "            self.courses[c].writeToFile(writer)"
     ],
     "language": "python",
     "metadata": {},
     "outputs": [],
     "prompt_number": 16
    },
    {
     "cell_type": "markdown",
     "metadata": {},
     "source": [
      "We define a couple of functions helpful in scraping the content."
     ]
    },
    {
     "cell_type": "code",
     "collapsed": false,
     "input": [
      "def gatherFollowString(soup, keyList):\n",
      "    \"\"\"Returns a dictionaray where each key is in keyList and its value is the string that follows the \n",
      "    key in soup, after soup.stripped_strings()\"\"\"\n",
      "    result = {}\n",
      "    for (first, second) in inpairs(soup.stripped_strings):\n",
      "        if first in keyList:\n",
      "            result[first] = second\n",
      "    return result\n",
      "\n",
      "def gatherTable(soup):\n",
      "    \"\"\"Assume that soup is a table, and its first row contains the keys, in th. \n",
      "    Returns an array of dictionaries, where each dictionary contains the values from a row, \n",
      "    and the keys are from the first row.\"\"\"\n",
      "    rows = soup.find_all('tr')\n",
      "\n",
      "    #set all the keys\n",
      "    keys = []\n",
      "    for e in rows[0].find_all('th'):\n",
      "        keys.append(e.string)\n",
      "\n",
      "    #set the rows\n",
      "    result = []\n",
      "    del rows[0]\n",
      "    for row in rows: #the rest of the table\n",
      "        r = {}\n",
      "        for (key,e) in zip(keys,row.find_all('td')): #we assume that all rows use td\n",
      "            r[key] = e.string\n",
      "        result.append(r)\n",
      "    return result\n",
      "\n",
      "from itertools import tee, izip\n",
      "\n",
      "def pairwise(iterable):\n",
      "    \"s -> (s0,s1), (s2,3),....\"\n",
      "    a = iter(iterable)\n",
      "    return izip(a, a)\n",
      "\n",
      "def inpairs(iterable):\n",
      "    \"s -> (s0,s1), (s1,s2), (s2, s3), ...\"\n",
      "    a, b = tee(iterable)\n",
      "    next(b, None)\n",
      "    return izip(a, b)"
     ],
     "language": "python",
     "metadata": {},
     "outputs": [],
     "prompt_number": 17
    },
    {
     "cell_type": "markdown",
     "metadata": {},
     "source": [
      "Function to read the raw HTML and add it to a catalog."
     ]
    },
    {
     "cell_type": "code",
     "collapsed": false,
     "input": [
      "from bs4 import BeautifulSoup\n",
      "#file = open(\"schedule.html\")\n",
      "\n",
      "def parsePage(webpage, catalog):\n",
      "    \"\"\"Parse the webpage and add its contents to the catalog\"\"\"\n",
      "    soup = BeautifulSoup(webpage)\n",
      "    table = soup.find_all(\"table\", class_=\"datadisplaytable\")\n",
      "    rows = [row for row in table[0].children if row.name == u'tr']\n",
      "    for name,times in pairwise(rows):\n",
      "        nameParts = name.th.a.string.split('-')\n",
      "        number = nameParts[2].strip()\n",
      "        name = nameParts[0].strip()\n",
      "        section = nameParts[3].strip()\n",
      "        course = Course(number,name)\n",
      "        TERM = \"Associated Term:\"\n",
      "        LEVELS = \"Levels:\"\n",
      "        ATTR = \"Attributes:\"\n",
      "        info = gatherFollowString(times, [TERM, LEVELS, ATTR])\n",
      "        if info.has_key(LEVELS):\n",
      "            course.levels = info[LEVELS]\n",
      "        if info.has_key(ATTR):\n",
      "            course.attributes = info[ATTR]\n",
      "        if times.table: #section has some offerings\n",
      "            offerings = gatherTable(times.table)\n",
      "            for offer in offerings:\n",
      "                days = offer['Days'].replace(u'\\xa0', '') #replace non-breaking unicode spaces (from &nbsp; via BS) with nothing.\n",
      "                course.addOffering(section, days, offer['Time'], offer['Where'])\n",
      "        else: #no offerings, add this section with empty values for the offering, as it appears on the webpage\n",
      "            course.addOffering(section, '', '', '')\n",
      "        catalog.add(course)\n"
     ],
     "language": "python",
     "metadata": {},
     "outputs": [],
     "prompt_number": 18
    },
    {
     "cell_type": "markdown",
     "metadata": {},
     "source": [
      "Download the webpages, parse and add them to the catalog."
     ]
    },
    {
     "cell_type": "code",
     "collapsed": false,
     "input": [
      "import requests\n",
      "import time\n",
      "dept = 'CSCE'\n",
      "catalog = Catalog()\n",
      "departments = [\"ACCT\",\"AERO\",\"AFAM\",\"AFCI\",\"AFYS\",\"AMST\",\"ANES\",\"ANTH\",\"ARAB\",\"ARMY\",\"ARTE\",\"ARTH\",\"ARTS\",\"ASLG\",\n",
      "\"ASTR\",\"ASUP\",\"ATEP\",\"BADM\",\"BIOL\",\"BIOS\",\"BMEN\",\"BMSC\",\"CAST\",\"CHEM\",\"CHIN\",\"CLAS\",\"COMD\",\"COMM\",\"COSM\",\"CPLT\",\n",
      "\"CRJU\",\"CSCE\",\"CSCI\",\"CSXE\",\"DANC\",\"DMSB\",\"ECHE\",\"ECIV\",\"ECON\",\"EDAD\",\"EDCE\",\"EDCF\",\"EDCI\",\"EDCS\",\"EDEC\",\"EDEL\",\n",
      "\"EDET\",\"EDEX\",\"EDFI\",\"EDFN\",\"EDFO\",\"EDHE\",\"EDHL\",\"EDLC\",\"EDLD\",\"EDLP\",\"EDML\",\"EDPH\",\"EDPY\",\"EDRD\",\"EDRE\",\"EDRM\",\n",
      "\"EDSC\",\"EDSE\",\"EDTE\",\"EDUC\",\"EDVI\",\"ELCT\",\"EMCH\",\"EMED\",\"ENCP\",\"ENFS\",\"ENGL\",\"ENHS\",\"ENSL\",\"ENVR\",\"EPID\",\"ETMG\",\n",
      "\"EURO\",\"EXSC\",\"FILM\",\"FINA\",\"FORL\",\"FPMD\",\"FREN\",\"GEOG\",\"GEOL\",\"GERM\",\"GMED\",\"GRAD\",\"GREK\",\"HGEN\",\"HIMS\",\"HIST\",\n",
      "\"HMSV\",\"HONS\",\"HPEB\",\"HPRO\",\"HRSM\",\"HRTM\",\"HSPM\",\"IBUS\",\"IDST\",\"INFO\",\"INTL\",\"ITAL\",\"ITEC\",\"JAPA\",\"JOUR\",\"JSTU\",\n",
      "\"LASP\",\"LATN\",\"LBST\",\"LIBR\",\"LING\",\"LOGC\",\"MART\",\"MATH\",\"MBAD\",\"MBIM\",\"MCBA\",\"MEDI\",\"MGMT\",\"MGSC\",\"MILS\",\"MKTG\",\n",
      "\"MSCI\",\"MUED\",\"MUSC\",\"MUSM\",\"NAVY\",\"NEUR\",\"NPAD\",\"NPSY\",\"NURS\",\"OBGY\",\"ORSU\",\"PALM\",\"PATH\",\"PEDI\",\"PEDU\",\"PHAR\",\n",
      "\"PHIL\",\"PHPH\",\"PHYS\",\"PHYT\",\"PMDR\",\"POLI\",\"PORT\",\"PSYC\",\"PUBH\",\"RADI\",\"RCAM\",\"RELG\",\"RETL\",\"RHAB\",\"RUSS\",\"SAEL\",\n",
      "\"SCCP\",\"SCHC\",\"SLIS\",\"SMED\",\"SOCY\",\"SOST\",\"SOWK\",\"SPAN\",\"SPCH\",\"SPTE\",\"STAT\",\"SURG\",\"THEA\",\"UNIV\",\"USC\",\"WGST\"]\n",
      "\n",
      "for dept in departments:\n",
      "    payload = 'term_in=201501&sel_subj=dummy&sel_day=dummy&sel_schd=dummy&sel_insm=dummy&sel_camp=dummy&sel_levl=dummy&sel_sess=dummy&sel_instr=dummy&sel_ptrm=dummy&sel_attr=dummy&sel_camp=COL&sel_subj=' + dept + '&sel_crse=&sel_title=&sel_from_cred=&sel_to_cred=&sel_levl=%25&sel_ptrm=%25&sel_sess=%25&sel_attr=%25&begin_hh=0&begin_mi=0&begin_ap=a&end_hh=0&end_mi=0&end_ap=a'\n",
      "    print dept\n",
      "    r = requests.post(\"https://ssb.onecarolina.sc.edu/BANP/bwckschd.p_get_crse_unsec\", data=payload)\n",
      "    parsePage(r.text,catalog)\n",
      "    time.sleep(5)"
     ],
     "language": "python",
     "metadata": {},
     "outputs": [
      {
       "output_type": "stream",
       "stream": "stdout",
       "text": [
        "ACCT\n",
        "AERO"
       ]
      },
      {
       "output_type": "stream",
       "stream": "stdout",
       "text": [
        "\n",
        "AFAM"
       ]
      },
      {
       "output_type": "stream",
       "stream": "stdout",
       "text": [
        "\n",
        "AFCI"
       ]
      },
      {
       "output_type": "stream",
       "stream": "stdout",
       "text": [
        "\n",
        "AFYS"
       ]
      },
      {
       "output_type": "stream",
       "stream": "stdout",
       "text": [
        "\n",
        "AMST"
       ]
      },
      {
       "output_type": "stream",
       "stream": "stdout",
       "text": [
        "\n",
        "ANES"
       ]
      },
      {
       "output_type": "stream",
       "stream": "stdout",
       "text": [
        "\n",
        "ANTH"
       ]
      },
      {
       "output_type": "stream",
       "stream": "stdout",
       "text": [
        "\n",
        "ARAB"
       ]
      },
      {
       "output_type": "stream",
       "stream": "stdout",
       "text": [
        "\n",
        "ARMY"
       ]
      },
      {
       "output_type": "stream",
       "stream": "stdout",
       "text": [
        "\n",
        "ARTE"
       ]
      },
      {
       "output_type": "stream",
       "stream": "stdout",
       "text": [
        "\n",
        "ARTH"
       ]
      },
      {
       "output_type": "stream",
       "stream": "stdout",
       "text": [
        "\n",
        "ARTS"
       ]
      },
      {
       "output_type": "stream",
       "stream": "stdout",
       "text": [
        "\n",
        "ASLG"
       ]
      },
      {
       "output_type": "stream",
       "stream": "stdout",
       "text": [
        "\n",
        "ASTR"
       ]
      },
      {
       "output_type": "stream",
       "stream": "stdout",
       "text": [
        "\n",
        "ASUP"
       ]
      },
      {
       "output_type": "stream",
       "stream": "stdout",
       "text": [
        "\n",
        "ATEP"
       ]
      },
      {
       "output_type": "stream",
       "stream": "stdout",
       "text": [
        "\n",
        "BADM"
       ]
      },
      {
       "output_type": "stream",
       "stream": "stdout",
       "text": [
        "\n",
        "BIOL"
       ]
      },
      {
       "output_type": "stream",
       "stream": "stdout",
       "text": [
        "\n",
        "BIOS"
       ]
      },
      {
       "output_type": "stream",
       "stream": "stdout",
       "text": [
        "\n",
        "BMEN"
       ]
      },
      {
       "output_type": "stream",
       "stream": "stdout",
       "text": [
        "\n",
        "BMSC"
       ]
      },
      {
       "output_type": "stream",
       "stream": "stdout",
       "text": [
        "\n",
        "CAST"
       ]
      },
      {
       "output_type": "stream",
       "stream": "stdout",
       "text": [
        "\n",
        "CHEM"
       ]
      },
      {
       "output_type": "stream",
       "stream": "stdout",
       "text": [
        "\n",
        "CHIN"
       ]
      },
      {
       "output_type": "stream",
       "stream": "stdout",
       "text": [
        "\n",
        "CLAS"
       ]
      },
      {
       "output_type": "stream",
       "stream": "stdout",
       "text": [
        "\n",
        "COMD"
       ]
      },
      {
       "output_type": "stream",
       "stream": "stdout",
       "text": [
        "\n",
        "COMM"
       ]
      },
      {
       "output_type": "stream",
       "stream": "stdout",
       "text": [
        "\n",
        "COSM"
       ]
      },
      {
       "output_type": "stream",
       "stream": "stdout",
       "text": [
        "\n",
        "CPLT"
       ]
      },
      {
       "output_type": "stream",
       "stream": "stdout",
       "text": [
        "\n",
        "CRJU"
       ]
      },
      {
       "output_type": "stream",
       "stream": "stdout",
       "text": [
        "\n",
        "CSCE"
       ]
      },
      {
       "output_type": "stream",
       "stream": "stdout",
       "text": [
        "\n",
        "CSCI"
       ]
      },
      {
       "output_type": "stream",
       "stream": "stdout",
       "text": [
        "\n",
        "CSXE"
       ]
      },
      {
       "output_type": "stream",
       "stream": "stdout",
       "text": [
        "\n",
        "DANC"
       ]
      },
      {
       "output_type": "stream",
       "stream": "stdout",
       "text": [
        "\n",
        "DMSB"
       ]
      },
      {
       "output_type": "stream",
       "stream": "stdout",
       "text": [
        "\n",
        "ECHE"
       ]
      },
      {
       "output_type": "stream",
       "stream": "stdout",
       "text": [
        "\n",
        "ECIV"
       ]
      },
      {
       "output_type": "stream",
       "stream": "stdout",
       "text": [
        "\n",
        "ECON"
       ]
      },
      {
       "output_type": "stream",
       "stream": "stdout",
       "text": [
        "\n",
        "EDAD"
       ]
      },
      {
       "output_type": "stream",
       "stream": "stdout",
       "text": [
        "\n",
        "EDCE"
       ]
      },
      {
       "output_type": "stream",
       "stream": "stdout",
       "text": [
        "\n",
        "EDCF"
       ]
      },
      {
       "output_type": "stream",
       "stream": "stdout",
       "text": [
        "\n",
        "EDCI"
       ]
      },
      {
       "output_type": "stream",
       "stream": "stdout",
       "text": [
        "\n",
        "EDCS"
       ]
      },
      {
       "output_type": "stream",
       "stream": "stdout",
       "text": [
        "\n",
        "EDEC"
       ]
      },
      {
       "output_type": "stream",
       "stream": "stdout",
       "text": [
        "\n",
        "EDEL"
       ]
      },
      {
       "output_type": "stream",
       "stream": "stdout",
       "text": [
        "\n",
        "EDET"
       ]
      },
      {
       "output_type": "stream",
       "stream": "stdout",
       "text": [
        "\n",
        "EDEX"
       ]
      },
      {
       "output_type": "stream",
       "stream": "stdout",
       "text": [
        "\n",
        "EDFI"
       ]
      },
      {
       "output_type": "stream",
       "stream": "stdout",
       "text": [
        "\n",
        "EDFN"
       ]
      },
      {
       "output_type": "stream",
       "stream": "stdout",
       "text": [
        "\n",
        "EDFO"
       ]
      },
      {
       "output_type": "stream",
       "stream": "stdout",
       "text": [
        "\n",
        "EDHE"
       ]
      },
      {
       "output_type": "stream",
       "stream": "stdout",
       "text": [
        "\n",
        "EDHL"
       ]
      },
      {
       "output_type": "stream",
       "stream": "stdout",
       "text": [
        "\n",
        "EDLC"
       ]
      },
      {
       "output_type": "stream",
       "stream": "stdout",
       "text": [
        "\n",
        "EDLD"
       ]
      },
      {
       "output_type": "stream",
       "stream": "stdout",
       "text": [
        "\n",
        "EDLP"
       ]
      },
      {
       "output_type": "stream",
       "stream": "stdout",
       "text": [
        "\n",
        "EDML"
       ]
      },
      {
       "output_type": "stream",
       "stream": "stdout",
       "text": [
        "\n",
        "EDPH"
       ]
      },
      {
       "output_type": "stream",
       "stream": "stdout",
       "text": [
        "\n",
        "EDPY"
       ]
      },
      {
       "output_type": "stream",
       "stream": "stdout",
       "text": [
        "\n",
        "EDRD"
       ]
      },
      {
       "output_type": "stream",
       "stream": "stdout",
       "text": [
        "\n",
        "EDRE"
       ]
      },
      {
       "output_type": "stream",
       "stream": "stdout",
       "text": [
        "\n",
        "EDRM"
       ]
      },
      {
       "output_type": "stream",
       "stream": "stdout",
       "text": [
        "\n",
        "EDSC"
       ]
      },
      {
       "output_type": "stream",
       "stream": "stdout",
       "text": [
        "\n",
        "EDSE"
       ]
      },
      {
       "output_type": "stream",
       "stream": "stdout",
       "text": [
        "\n",
        "EDTE"
       ]
      },
      {
       "output_type": "stream",
       "stream": "stdout",
       "text": [
        "\n",
        "EDUC"
       ]
      },
      {
       "output_type": "stream",
       "stream": "stdout",
       "text": [
        "\n",
        "EDVI"
       ]
      },
      {
       "output_type": "stream",
       "stream": "stdout",
       "text": [
        "\n",
        "ELCT"
       ]
      },
      {
       "output_type": "stream",
       "stream": "stdout",
       "text": [
        "\n",
        "EMCH"
       ]
      },
      {
       "output_type": "stream",
       "stream": "stdout",
       "text": [
        "\n",
        "EMED"
       ]
      },
      {
       "output_type": "stream",
       "stream": "stdout",
       "text": [
        "\n",
        "ENCP"
       ]
      },
      {
       "output_type": "stream",
       "stream": "stdout",
       "text": [
        "\n",
        "ENFS"
       ]
      },
      {
       "output_type": "stream",
       "stream": "stdout",
       "text": [
        "\n",
        "ENGL"
       ]
      },
      {
       "output_type": "stream",
       "stream": "stdout",
       "text": [
        "\n",
        "ENHS"
       ]
      },
      {
       "output_type": "stream",
       "stream": "stdout",
       "text": [
        "\n",
        "ENSL"
       ]
      },
      {
       "output_type": "stream",
       "stream": "stdout",
       "text": [
        "\n",
        "ENVR"
       ]
      },
      {
       "output_type": "stream",
       "stream": "stdout",
       "text": [
        "\n",
        "EPID"
       ]
      },
      {
       "output_type": "stream",
       "stream": "stdout",
       "text": [
        "\n",
        "ETMG"
       ]
      },
      {
       "output_type": "stream",
       "stream": "stdout",
       "text": [
        "\n",
        "EURO"
       ]
      },
      {
       "output_type": "stream",
       "stream": "stdout",
       "text": [
        "\n",
        "EXSC"
       ]
      },
      {
       "output_type": "stream",
       "stream": "stdout",
       "text": [
        "\n",
        "FILM"
       ]
      },
      {
       "output_type": "stream",
       "stream": "stdout",
       "text": [
        "\n",
        "FINA"
       ]
      },
      {
       "output_type": "stream",
       "stream": "stdout",
       "text": [
        "\n",
        "FORL"
       ]
      },
      {
       "output_type": "stream",
       "stream": "stdout",
       "text": [
        "\n",
        "FPMD"
       ]
      },
      {
       "output_type": "stream",
       "stream": "stdout",
       "text": [
        "\n",
        "FREN"
       ]
      },
      {
       "output_type": "stream",
       "stream": "stdout",
       "text": [
        "\n",
        "GEOG"
       ]
      },
      {
       "output_type": "stream",
       "stream": "stdout",
       "text": [
        "\n",
        "GEOL"
       ]
      },
      {
       "output_type": "stream",
       "stream": "stdout",
       "text": [
        "\n",
        "GERM"
       ]
      },
      {
       "output_type": "stream",
       "stream": "stdout",
       "text": [
        "\n",
        "GMED"
       ]
      },
      {
       "output_type": "stream",
       "stream": "stdout",
       "text": [
        "\n",
        "GRAD"
       ]
      },
      {
       "output_type": "stream",
       "stream": "stdout",
       "text": [
        "\n",
        "GREK"
       ]
      },
      {
       "output_type": "stream",
       "stream": "stdout",
       "text": [
        "\n",
        "HGEN"
       ]
      },
      {
       "output_type": "stream",
       "stream": "stdout",
       "text": [
        "\n",
        "HIMS"
       ]
      },
      {
       "output_type": "stream",
       "stream": "stdout",
       "text": [
        "\n",
        "HIST"
       ]
      },
      {
       "output_type": "stream",
       "stream": "stdout",
       "text": [
        "\n",
        "HMSV"
       ]
      },
      {
       "output_type": "stream",
       "stream": "stdout",
       "text": [
        "\n",
        "HONS"
       ]
      },
      {
       "output_type": "stream",
       "stream": "stdout",
       "text": [
        "\n",
        "HPEB"
       ]
      },
      {
       "output_type": "stream",
       "stream": "stdout",
       "text": [
        "\n",
        "HPRO"
       ]
      },
      {
       "output_type": "stream",
       "stream": "stdout",
       "text": [
        "\n",
        "HRSM"
       ]
      },
      {
       "output_type": "stream",
       "stream": "stdout",
       "text": [
        "\n",
        "HRTM"
       ]
      },
      {
       "output_type": "stream",
       "stream": "stdout",
       "text": [
        "\n",
        "HSPM"
       ]
      },
      {
       "output_type": "stream",
       "stream": "stdout",
       "text": [
        "\n",
        "IBUS"
       ]
      },
      {
       "output_type": "stream",
       "stream": "stdout",
       "text": [
        "\n",
        "IDST"
       ]
      },
      {
       "output_type": "stream",
       "stream": "stdout",
       "text": [
        "\n",
        "INFO"
       ]
      },
      {
       "output_type": "stream",
       "stream": "stdout",
       "text": [
        "\n",
        "INTL"
       ]
      },
      {
       "output_type": "stream",
       "stream": "stdout",
       "text": [
        "\n",
        "ITAL"
       ]
      },
      {
       "output_type": "stream",
       "stream": "stdout",
       "text": [
        "\n",
        "ITEC"
       ]
      },
      {
       "output_type": "stream",
       "stream": "stdout",
       "text": [
        "\n",
        "JAPA"
       ]
      },
      {
       "output_type": "stream",
       "stream": "stdout",
       "text": [
        "\n",
        "JOUR"
       ]
      },
      {
       "output_type": "stream",
       "stream": "stdout",
       "text": [
        "\n",
        "JSTU"
       ]
      },
      {
       "output_type": "stream",
       "stream": "stdout",
       "text": [
        "\n",
        "LASP"
       ]
      },
      {
       "output_type": "stream",
       "stream": "stdout",
       "text": [
        "\n",
        "LATN"
       ]
      },
      {
       "output_type": "stream",
       "stream": "stdout",
       "text": [
        "\n",
        "LBST"
       ]
      },
      {
       "output_type": "stream",
       "stream": "stdout",
       "text": [
        "\n",
        "LIBR"
       ]
      },
      {
       "output_type": "stream",
       "stream": "stdout",
       "text": [
        "\n",
        "LING"
       ]
      },
      {
       "output_type": "stream",
       "stream": "stdout",
       "text": [
        "\n",
        "LOGC"
       ]
      },
      {
       "output_type": "stream",
       "stream": "stdout",
       "text": [
        "\n",
        "MART"
       ]
      },
      {
       "output_type": "stream",
       "stream": "stdout",
       "text": [
        "\n",
        "MATH"
       ]
      },
      {
       "output_type": "stream",
       "stream": "stdout",
       "text": [
        "\n",
        "MBAD"
       ]
      },
      {
       "output_type": "stream",
       "stream": "stdout",
       "text": [
        "\n",
        "MBIM"
       ]
      },
      {
       "output_type": "stream",
       "stream": "stdout",
       "text": [
        "\n",
        "MCBA"
       ]
      },
      {
       "output_type": "stream",
       "stream": "stdout",
       "text": [
        "\n",
        "MEDI"
       ]
      },
      {
       "output_type": "stream",
       "stream": "stdout",
       "text": [
        "\n",
        "MGMT"
       ]
      },
      {
       "output_type": "stream",
       "stream": "stdout",
       "text": [
        "\n",
        "MGSC"
       ]
      },
      {
       "output_type": "stream",
       "stream": "stdout",
       "text": [
        "\n",
        "MILS"
       ]
      },
      {
       "output_type": "stream",
       "stream": "stdout",
       "text": [
        "\n",
        "MKTG"
       ]
      },
      {
       "output_type": "stream",
       "stream": "stdout",
       "text": [
        "\n",
        "MSCI"
       ]
      },
      {
       "output_type": "stream",
       "stream": "stdout",
       "text": [
        "\n",
        "MUED"
       ]
      },
      {
       "output_type": "stream",
       "stream": "stdout",
       "text": [
        "\n",
        "MUSC"
       ]
      },
      {
       "output_type": "stream",
       "stream": "stdout",
       "text": [
        "\n",
        "MUSM"
       ]
      },
      {
       "output_type": "stream",
       "stream": "stdout",
       "text": [
        "\n",
        "NAVY"
       ]
      },
      {
       "output_type": "stream",
       "stream": "stdout",
       "text": [
        "\n",
        "NEUR"
       ]
      },
      {
       "output_type": "stream",
       "stream": "stdout",
       "text": [
        "\n",
        "NPAD"
       ]
      },
      {
       "output_type": "stream",
       "stream": "stdout",
       "text": [
        "\n",
        "NPSY"
       ]
      },
      {
       "output_type": "stream",
       "stream": "stdout",
       "text": [
        "\n",
        "NURS"
       ]
      },
      {
       "output_type": "stream",
       "stream": "stdout",
       "text": [
        "\n",
        "OBGY"
       ]
      },
      {
       "output_type": "stream",
       "stream": "stdout",
       "text": [
        "\n",
        "ORSU"
       ]
      },
      {
       "output_type": "stream",
       "stream": "stdout",
       "text": [
        "\n",
        "PALM"
       ]
      },
      {
       "output_type": "stream",
       "stream": "stdout",
       "text": [
        "\n",
        "PATH"
       ]
      },
      {
       "output_type": "stream",
       "stream": "stdout",
       "text": [
        "\n",
        "PEDI"
       ]
      },
      {
       "output_type": "stream",
       "stream": "stdout",
       "text": [
        "\n",
        "PEDU"
       ]
      },
      {
       "output_type": "stream",
       "stream": "stdout",
       "text": [
        "\n",
        "PHAR"
       ]
      },
      {
       "output_type": "stream",
       "stream": "stdout",
       "text": [
        "\n",
        "PHIL"
       ]
      },
      {
       "output_type": "stream",
       "stream": "stdout",
       "text": [
        "\n",
        "PHPH"
       ]
      },
      {
       "output_type": "stream",
       "stream": "stdout",
       "text": [
        "\n",
        "PHYS"
       ]
      },
      {
       "output_type": "stream",
       "stream": "stdout",
       "text": [
        "\n",
        "PHYT"
       ]
      },
      {
       "output_type": "stream",
       "stream": "stdout",
       "text": [
        "\n",
        "PMDR"
       ]
      },
      {
       "output_type": "stream",
       "stream": "stdout",
       "text": [
        "\n",
        "POLI"
       ]
      },
      {
       "output_type": "stream",
       "stream": "stdout",
       "text": [
        "\n",
        "PORT"
       ]
      },
      {
       "output_type": "stream",
       "stream": "stdout",
       "text": [
        "\n",
        "PSYC"
       ]
      },
      {
       "output_type": "stream",
       "stream": "stdout",
       "text": [
        "\n",
        "PUBH"
       ]
      },
      {
       "output_type": "stream",
       "stream": "stdout",
       "text": [
        "\n",
        "RADI"
       ]
      },
      {
       "output_type": "stream",
       "stream": "stdout",
       "text": [
        "\n",
        "RCAM"
       ]
      },
      {
       "output_type": "stream",
       "stream": "stdout",
       "text": [
        "\n",
        "RELG"
       ]
      },
      {
       "output_type": "stream",
       "stream": "stdout",
       "text": [
        "\n",
        "RETL"
       ]
      },
      {
       "output_type": "stream",
       "stream": "stdout",
       "text": [
        "\n",
        "RHAB"
       ]
      },
      {
       "output_type": "stream",
       "stream": "stdout",
       "text": [
        "\n",
        "RUSS"
       ]
      },
      {
       "output_type": "stream",
       "stream": "stdout",
       "text": [
        "\n",
        "SAEL"
       ]
      },
      {
       "output_type": "stream",
       "stream": "stdout",
       "text": [
        "\n",
        "SCCP"
       ]
      },
      {
       "output_type": "stream",
       "stream": "stdout",
       "text": [
        "\n",
        "SCHC"
       ]
      },
      {
       "output_type": "stream",
       "stream": "stdout",
       "text": [
        "\n",
        "SLIS"
       ]
      },
      {
       "output_type": "stream",
       "stream": "stdout",
       "text": [
        "\n",
        "SMED"
       ]
      },
      {
       "output_type": "stream",
       "stream": "stdout",
       "text": [
        "\n",
        "SOCY"
       ]
      },
      {
       "output_type": "stream",
       "stream": "stdout",
       "text": [
        "\n",
        "SOST"
       ]
      },
      {
       "output_type": "stream",
       "stream": "stdout",
       "text": [
        "\n",
        "SOWK"
       ]
      },
      {
       "output_type": "stream",
       "stream": "stdout",
       "text": [
        "\n",
        "SPAN"
       ]
      },
      {
       "output_type": "stream",
       "stream": "stdout",
       "text": [
        "\n",
        "SPCH"
       ]
      },
      {
       "output_type": "stream",
       "stream": "stdout",
       "text": [
        "\n",
        "SPTE"
       ]
      },
      {
       "output_type": "stream",
       "stream": "stdout",
       "text": [
        "\n",
        "STAT"
       ]
      },
      {
       "output_type": "stream",
       "stream": "stdout",
       "text": [
        "\n",
        "SURG"
       ]
      },
      {
       "output_type": "stream",
       "stream": "stdout",
       "text": [
        "\n",
        "THEA"
       ]
      },
      {
       "output_type": "stream",
       "stream": "stdout",
       "text": [
        "\n",
        "UNIV"
       ]
      },
      {
       "output_type": "stream",
       "stream": "stdout",
       "text": [
        "\n",
        "USC"
       ]
      },
      {
       "output_type": "stream",
       "stream": "stdout",
       "text": [
        "\n",
        "WGST"
       ]
      },
      {
       "output_type": "stream",
       "stream": "stdout",
       "text": [
        "\n"
       ]
      }
     ],
     "prompt_number": 19
    },
    {
     "cell_type": "markdown",
     "metadata": {},
     "source": [
      "Write it out to a csv file."
     ]
    },
    {
     "cell_type": "code",
     "collapsed": false,
     "input": [
      "with open('schedule.csv', 'wb') as csvfile:\n",
      "    writer = csvkit.writer(csvfile)\n",
      "    catalog.writeToFile(writer)\n"
     ],
     "language": "python",
     "metadata": {},
     "outputs": [],
     "prompt_number": 20
    },
    {
     "cell_type": "heading",
     "level": 2,
     "metadata": {},
     "source": [
      "Things that did not work out"
     ]
    },
    {
     "cell_type": "markdown",
     "metadata": {},
     "source": [
      "I first tried to send the data the normal way, using a dictionary, but the website responded with the search webpage, not the results. I fixed this problem by sending the same data string as my browser does.\n",
      "\n",
      "So, either I have a typo on my payload below, which I still cannot find, or the arguments have to be in a specific order. That is, I noticed that when I use the dictionary payload the arguments are sent to the server in a different order."
     ]
    },
    {
     "cell_type": "code",
     "collapsed": false,
     "input": [
      "import requests\n",
      "\n",
      "#Using this one does not work because it sends the keys in the wrong order\n",
      "payload = {'term_in': 201501,\n",
      "'sel_subj': 'dummy',\n",
      "'sel_day': 'dummy',\n",
      "'sel_schd': 'dummy',\n",
      "'sel_insm': 'dummy',\n",
      "'sel_camp': 'dummy',\n",
      "'sel_levl': 'dummy',\n",
      "'sel_sess': 'dummy',\n",
      "'sel_instr': 'dummy',\n",
      "'sel_ptrm': 'dummy',\n",
      "'sel_attr': 'dummy',\n",
      "'sel_camp': 'COL',\n",
      "'sel_subj': 'CSCE',\n",
      "'sel_crse': '',\n",
      "'sel_title': '',\n",
      "'sel_from_cred': '',\n",
      "'sel_to_cred': '',\n",
      "'sel_levl':'%',\n",
      "'sel_ptrm':'%',\n",
      "'sel_sess':'%',\n",
      "'sel_attr':'%',\n",
      "'begin_hh': 0,\n",
      "'begin_mi': 0,\n",
      "'begin_ap': 'a',\n",
      "'end_hh': 0,\n",
      "'end_mi': 0,\n",
      "'end_ap': 'a'}\n",
      "\n",
      "#cookies: We don't need these.\n",
      "cookies= {\n",
      "    '_utma':'2872370.68114765.1407249036.1412703684.1412714272.86',\n",
      "    '_utmz': '2872370.1410959235.55.3.utmcsr=google|utmccn=(organic)|utmcmd=organic|utmctr=(not%20provided)',\n",
      "    '_ga': 'GA1.2.68114765.1407249036',\n",
      "    'accessibility': 'false',\n",
      "    'sghe_magellan_locale': 'en_US',\n",
      "    'sghe_magellan_username': ''}\n",
      "\n",
      "#We don't need these headers either.\n",
      "headers = {'User-Agent': 'Mozilla/5.0 (Macintosh; Intel Mac OS X 10_9_5) AppleWebKit/537.36 (KHTML, like Gecko) Chrome/38.0.2125.101 Safari/537.36',\n",
      "           'Referer': 'https://ssb.onecarolina.sc.edu/BANP/bwckgens.p_proc_term_date',\n",
      "           'Origin': 'https://ssb.onecarolina.sc.edu',\n",
      "           'Host': 'ssb.onecarolina.sc.edu',\n",
      "           'Accept': 'text/html,application/xhtml+xml,application/xml;q=0.9,image/webp,*/*;q=0.8',\n",
      "           'Accept-Language':'en-US,en;q=0.8,es;q=0.6'}\n",
      "\n",
      "#We must use a string for the data because (it seems) the keys have to be in this order!!!\n",
      "payload = 'term_in=201501&sel_subj=dummy&sel_day=dummy&sel_schd=dummy&sel_insm=dummy&sel_camp=dummy&sel_levl=dummy&sel_sess=dummy&sel_instr=dummy&sel_ptrm=dummy&sel_attr=dummy&sel_camp=COL&sel_subj=CSCE&sel_crse=&sel_title=&sel_from_cred=&sel_to_cred=&sel_levl=%25&sel_ptrm=%25&sel_sess=%25&sel_attr=%25&begin_hh=0&begin_mi=0&begin_ap=a&end_hh=0&end_mi=0&end_ap=a'\n",
      "\n"
     ],
     "language": "python",
     "metadata": {},
     "outputs": [],
     "prompt_number": 21
    }
   ],
   "metadata": {}
  }
 ]
}